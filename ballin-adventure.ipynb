{
 "cells": [
  {
   "cell_type": "code",
   "execution_count": 1,
   "metadata": {
    "collapsed": true
   },
   "outputs": [],
   "source": [
    "from pymongo import MongoClient\n"
   ]
  },
  {
   "cell_type": "code",
   "execution_count": 2,
   "metadata": {
    "collapsed": false
   },
   "outputs": [],
   "source": [
    "client = MongoClient('localhost', 27017)\n",
    "# client = MongoClient()"
   ]
  },
  {
   "cell_type": "code",
   "execution_count": 3,
   "metadata": {
    "collapsed": true
   },
   "outputs": [],
   "source": [
    "db = client['xtractor']"
   ]
  },
  {
   "cell_type": "code",
   "execution_count": 4,
   "metadata": {
    "collapsed": true
   },
   "outputs": [],
   "source": [
    "collection = db.items"
   ]
  },
  {
   "cell_type": "code",
   "execution_count": 11,
   "metadata": {
    "collapsed": false
   },
   "outputs": [
    {
     "data": {
      "text/plain": [
       "{'downloaded_date': datetime.datetime(2015, 5, 11, 8, 4, 41, 226322),\n",
       " 'id': None,\n",
       " 'link': None,\n",
       " 'resolution': None,\n",
       " 'tags': [],\n",
       " 'title': None}"
      ]
     },
     "execution_count": 11,
     "metadata": {},
     "output_type": "execute_result"
    }
   ],
   "source": [
    "import datetime\n",
    "post = {\n",
    "    \"id\": None,\n",
    "    \"title\": None,\n",
    "    \"tags\":[],\n",
    "    \"link\": None,\n",
    "    \"resolution\": None,\n",
    "    \"downloaded_date\": datetime.datetime.now()\n",
    "}\n",
    "post"
   ]
  },
  {
   "cell_type": "code",
   "execution_count": 16,
   "metadata": {
    "collapsed": false
   },
   "outputs": [
    {
     "data": {
      "text/plain": [
       "'12245'"
      ]
     },
     "execution_count": 16,
     "metadata": {},
     "output_type": "execute_result"
    }
   ],
   "source": [
    "## Obtaining ID\n",
    "import re\n",
    "file = 'wallhaven-12245.png'\n",
    "match = re.search('-(\\d*).', file)\n",
    "match.group(1)"
   ]
  },
  {
   "cell_type": "code",
   "execution_count": 31,
   "metadata": {
    "collapsed": false
   },
   "outputs": [
    {
     "name": "stdout",
     "output_type": "stream",
     "text": [
      "['1980&#039;s', 'RoboCop', 'Rambo', 'Terminator', 'space', 'Soldier', 'badass', 'collage', 'collages', 'movies']\n"
     ]
    }
   ],
   "source": [
    "import requests\n",
    "# Obtain tags\n",
    "example = 'http://alpha.wallhaven.cc/wallpaper/196961'\n",
    "pattern = r'<a class=\"tagname\" rel=\"tag\" href=\".*\">(.*)</a></li>'\n",
    "match = re.findall(pattern, requests.get(example).text)\n",
    "# for i in match:\n",
    "#     print (i)\n",
    "print(list(match))\n"
   ]
  },
  {
   "cell_type": "code",
   "execution_count": null,
   "metadata": {
    "collapsed": true
   },
   "outputs": [],
   "source": []
  }
 ],
 "metadata": {
  "kernelspec": {
   "display_name": "Python 3",
   "language": "python",
   "name": "python3"
  },
  "language_info": {
   "codemirror_mode": {
    "name": "ipython",
    "version": 3
   },
   "file_extension": ".py",
   "mimetype": "text/x-python",
   "name": "python",
   "nbconvert_exporter": "python",
   "pygments_lexer": "ipython3",
   "version": "3.4.3"
  }
 },
 "nbformat": 4,
 "nbformat_minor": 0
}

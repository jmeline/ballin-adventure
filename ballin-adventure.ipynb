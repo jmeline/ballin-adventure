{
 "cells": [
  {
   "cell_type": "code",
   "execution_count": 1,
   "metadata": {
    "collapsed": true
   },
   "outputs": [],
   "source": [
    "from pymongo import MongoClient\n"
   ]
  },
  {
   "cell_type": "code",
   "execution_count": 2,
   "metadata": {
    "collapsed": false
   },
   "outputs": [],
   "source": [
    "client = MongoClient('localhost', 27017)\n",
    "# client = MongoClient()"
   ]
  },
  {
   "cell_type": "code",
   "execution_count": 3,
   "metadata": {
    "collapsed": true
   },
   "outputs": [],
   "source": [
    "db = client['xtractor']"
   ]
  },
  {
   "cell_type": "code",
   "execution_count": 4,
   "metadata": {
    "collapsed": true
   },
   "outputs": [],
   "source": [
    "collection = db.items"
   ]
  },
  {
   "cell_type": "code",
   "execution_count": 5,
   "metadata": {
    "collapsed": false,
    "scrolled": true
   },
   "outputs": [
    {
     "data": {
      "text/plain": [
       "{'added_date': None,\n",
       " 'category': None,\n",
       " 'downloaded_date': datetime.datetime(2015, 5, 11, 16, 21, 13, 675192),\n",
       " 'favorites': None,\n",
       " 'id': None,\n",
       " 'link': None,\n",
       " 'resolution': None,\n",
       " 'size': None,\n",
       " 'source': None,\n",
       " 'tags': [],\n",
       " 'title': None,\n",
       " 'uploaded_by': None}"
      ]
     },
     "execution_count": 5,
     "metadata": {},
     "output_type": "execute_result"
    }
   ],
   "source": [
    "import datetime\n",
    "post = {\n",
    "    \"id\": None,\n",
    "    \"title\": None,\n",
    "    \"tags\":[],\n",
    "    \"link\": None,\n",
    "    \"size\": None,\n",
    "    \"resolution\": None,\n",
    "    \"favorites\": None,\n",
    "    \"uploaded_by\": None,\n",
    "    \"added_date\": None,\n",
    "    \"source\": None,\n",
    "    \"category\": None,\n",
    "    \"downloaded_date\": datetime.datetime.now()\n",
    "}\n",
    "post"
   ]
  },
  {
   "cell_type": "code",
   "execution_count": 6,
   "metadata": {
    "collapsed": false
   },
   "outputs": [
    {
     "data": {
      "text/plain": [
       "'12245'"
      ]
     },
     "execution_count": 6,
     "metadata": {},
     "output_type": "execute_result"
    }
   ],
   "source": [
    "## Obtaining ID\n",
    "import re\n",
    "file = 'wallhaven-12245.png'\n",
    "match = re.search('-(\\d*).', file)\n",
    "match.group(1)"
   ]
  },
  {
   "cell_type": "code",
   "execution_count": 7,
   "metadata": {
    "collapsed": false
   },
   "outputs": [
    {
     "name": "stdout",
     "output_type": "stream",
     "text": [
      "html: <class 'str'>\n"
     ]
    }
   ],
   "source": [
    "import requests\n",
    "example = 'http://alpha.wallhaven.cc/wallpaper/203199'\n",
    "html = requests.get(example).text\n",
    "print(\"html:\", type(html))"
   ]
  },
  {
   "cell_type": "code",
   "execution_count": 8,
   "metadata": {
    "collapsed": false,
    "scrolled": true
   },
   "outputs": [
    {
     "name": "stdout",
     "output_type": "stream",
     "text": [
      "Tags:  ['animals', 'cats']\n",
      "Resolution: 2048 x 1365\n",
      "Size: 510.4 KiB\n",
      "Category: General\n",
      "Views: 50\n",
      "Uploaded_by: Droma\n"
     ]
    }
   ],
   "source": [
    "# Obtain tags\n",
    "pattern = r'<a class=\"tagname\" rel=\"tag\" href=\".*\">(.*)</a></li>'\n",
    "match = re.findall(pattern, html)\n",
    "print(\"Tags: \", list(match))\n",
    "# Obtain Resolution\n",
    "pattern = r'<dt>Resolution</dt><dd>(.*)\\s*</dd>'\n",
    "match = re.search(pattern, html)\n",
    "print(\"Resolution:\", match.group(1))\n",
    "# Obtain Size\n",
    "pattern = r'<dt>Size</dt><dd>(.*B)</dd><dt>'\n",
    "match = re.search(pattern, html)\n",
    "if match:\n",
    "    print(\"Size:\", match.group(1))\n",
    "# Obtain Category\n",
    "pattern = r'<dt>Category</dt><dd>(\\w*)</dd><dt>'\n",
    "match = re.search(pattern, html)\n",
    "if match:\n",
    "    print(\"Category:\", match.group(1))\n",
    "# Obtain Views\n",
    "pattern = r'<dt>Views</dt><dd>(\\d*)</dd>'\n",
    "match = re.search(pattern, html)\n",
    "if match:\n",
    "    print(\"Views:\", match.group(1))\n",
    "# Obtain Uploaded_by\n",
    "pattern = r'<dt>Uploaded by</dt><dd><a class=\"username.*>(.*)</a></dd>'\n",
    "match = re.search(pattern, html)\n",
    "if match:\n",
    "    print(\"Uploaded_by:\", match.group(1))\n"
   ]
  },
  {
   "cell_type": "code",
   "execution_count": 9,
   "metadata": {
    "collapsed": false
   },
   "outputs": [
    {
     "name": "stdout",
     "output_type": "stream",
     "text": [
      "<!DOCTYPE html>\n",
      "<html lang=\"en\">\n",
      "    <head>\n",
      "        <meta charset=\"utf-8\">\n",
      "        <link rel=\"shortcut icon\" href=\"http://alpha.wallhaven.cc/favicon.ico\" />\n",
      "                \n",
      "            <title>#animals, #cats | Wallpaper No. 203199 - wallhaven.cc</title>\n",
      "            <meta name=\"title\" content=\"#animals, #cats | Wallpaper No. 203199\">\n",
      "            <meta name=\"description\"\n",
      "                  content=\"Your source for the best high quality wallpapers on the Net!\">\n",
      "                <meta property=\"og:image\" content=\"//wallpapers.wallhaven.cc/wallpapers/full/wallhaven-203199.jpg\" />\n",
      "            \n",
      "            <link rel=\"search\" type=\"application/opensearchdescription+xml\"\n",
      "                  title=\"wallhaven.cc wallpaper search\" href=\"http://alpha.wallhaven.cc/openSearch/wallpapers\" />\n",
      "            \n",
      "            <link media=\"all\" type=\"text/css\" rel=\"stylesheet\" href=\"//netdna.bootstrapcdn.com/font-awesome/4.3.0/css/font-awesome.min.css\">\n",
      "\n",
      "            <link media=\"all\" type=\"text/css\" rel=\"stylesheet\" href=\"http://fonts.googleapis.com/css?family=Montserrat:400,700\">\n",
      "\n",
      "            <link media=\"all\" type=\"text/css\" rel=\"stylesheet\" href=\"http://fonts.googleapis.com/css?family=Source+Sans+Pro:400,300,600,700\">\n",
      "\n",
      "                                    \n",
      "            <link media=\"all\" type=\"text/css\" rel=\"stylesheet\" href=\"//static.wallhaven.cc/assets/build.min.css\">\n",
      "\n",
      "            \n",
      "            \n",
      "                        <script>\n",
      "  (function(i,s,o,g,r,a,m){i['GoogleAnalyticsObject']=r;i[r]=i[r]||function(){\n",
      "  (i[r].q=i[r].q||[]).push(arguments)},i[r].l=1*new Date();a=s.createElement(o),\n",
      "  m=s.getElementsByTagName(o)[0];a.async=1;a.src=g;m.parentNode.insertBefore(a,m)\n",
      "  })(window,document,'script','//www.google-analytics.com/analytics.js','ga');\n",
      "\n",
      "  ga('create', 'UA-1164114-11', 'auto');\n",
      "  ga('send', 'pageview');\n",
      "\n",
      "</script>\n",
      "            </head>\n",
      "    <body class=\"base\">\n",
      "\n",
      "                                <header id=\"header\"><nav><h1><a href=\"http://alpha.wallhaven.cc\"><img src=\"//static.wallhaven.cc/images/layout/logo_sm.png\" alt=\"wallhaven\"><span>Wallhaven</span></a></h1><div id=\"userpanel\"><a class=\"button register\" href=\"http://alpha.wallhaven.cc/user/create\"><!-- <i class=\"fa fa-coffee\"></i> -->\n",
      "            Register\n",
      "        </a><a class=\"button\" href=\"http://alpha.wallhaven.cc/auth/login\"><!-- <i class=\"fa fa-sign-in\"></i> -->\n",
      "            Login\n",
      "        </a></div><ul id=\"topmenu\"><li><a class=\"latest\" href=\"http://alpha.wallhaven.cc/latest\"><i class=\"fa fa-lg fa-clock-o\"></i><span>Latest</span></a></li><li><a class=\"random\" href=\"http://alpha.wallhaven.cc/random\"><i class=\"fa fa-lg fa-random\"></i><span>Random</span></a></li><li><a class=\"upload\" href=\"http://alpha.wallhaven.cc/upload\"><i class=\"fa fa-lg fa-upload\"></i><span>Upload</span></a></li><li><a class=\"comments\" href=\"http://alpha.wallhaven.cc/comments\"><i class=\"fa fa-lg fa-comments-o \"></i><span>Comments</span></a></li><li><a class=\"search jsAnchor\" id=\"searchbar-toggle\"><i class=\"fa fa-lg fa-search\"></i><span>Search</span></a></li></ul></nav></header>            \n",
      "    \n",
      "    \n",
      "\n",
      "                    \n",
      "\n",
      "<div id=\"searchbar\" class=\"collapsed\"><form method=\"GET\" action=\"http://alpha.wallhaven.cc/search\" accept-charset=\"UTF-8\" id=\"search\"><fieldset class=\"oneline framed\"><div><input type=\"search\" id=\"search-text\" name=\"q\"\n",
      "                       placeholder=\"Search...\" value=\"\"/></div><button><i class=\"fa fa-search\"></i></button></fieldset><fieldset id=\"search-category-checks\" class=\"framed\"><input id=\"search-general\" checked=\"checked\" name=\"general\" type=\"checkbox\" value=\"general\"><label for=\"search-general\">General</label><input id=\"search-anime\" checked=\"checked\" name=\"anime\" type=\"checkbox\" value=\"anime\"><label for=\"search-anime\">Anime</label><input id=\"search-people\" checked=\"checked\" name=\"people\" type=\"checkbox\" value=\"people\"><label for=\"search-people\">People</label></fieldset><fieldset id=\"search-purity-checks\" class=\"framed\"><input id=\"search-sfw\" checked=\"checked\" name=\"sfw\" type=\"checkbox\" value=\"sfw\"><label class=\"purity sfw\" for=\"search-sfw\">SFW</label><input id=\"search-sketchy\" name=\"sketchy\" type=\"checkbox\" value=\"sketchy\"><label class=\"purity sketchy\" for=\"search-sketchy\">Sketchy</label></fieldset><fieldset id=\"search-resolutions\" class=\"framed\"><a class=\"jsAnchor dropdown-toggle collapsed\">Resolution</a><div class=\"dropdown collapsed\"><div><input id=\"res-1024x768\" class=\"resolution\" name=\"resolution\" type=\"checkbox\" value=\"1024x768\"><label style=\"display: block\" for=\"res-1024x768\">\n",
      "                            1024x768\n",
      "                                                    </label><input id=\"res-1280x800\" class=\"resolution\" name=\"resolution\" type=\"checkbox\" value=\"1280x800\"><label style=\"display: block\" for=\"res-1280x800\">\n",
      "                            1280x800\n",
      "                                                    </label><input id=\"res-1366x768\" class=\"resolution\" name=\"resolution\" type=\"checkbox\" value=\"1366x768\"><label style=\"display: block\" for=\"res-1366x768\">\n",
      "                            1366x768\n",
      "                                                    </label><input id=\"res-1280x960\" class=\"resolution\" name=\"resolution\" type=\"checkbox\" value=\"1280x960\"><label style=\"display: block\" for=\"res-1280x960\">\n",
      "                            1280x960\n",
      "                                                    </label><input id=\"res-1440x900\" class=\"resolution\" name=\"resolution\" type=\"checkbox\" value=\"1440x900\"><label style=\"display: block\" for=\"res-1440x900\">\n",
      "                            1440x900\n",
      "                                                    </label><input id=\"res-1600x900\" class=\"resolution\" name=\"resolution\" type=\"checkbox\" value=\"1600x900\"><label style=\"display: block\" for=\"res-1600x900\">\n",
      "                            1600x900\n",
      "                                                    </label><input id=\"res-1280x1024\" class=\"resolution\" name=\"resolution\" type=\"checkbox\" value=\"1280x1024\"><label style=\"display: block\" for=\"res-1280x1024\">\n",
      "                            1280x1024\n",
      "                                                    </label><input id=\"res-1600x1200\" class=\"resolution\" name=\"resolution\" type=\"checkbox\" value=\"1600x1200\"><label style=\"display: block\" for=\"res-1600x1200\">\n",
      "                            1600x1200\n",
      "                                                    </label><input id=\"res-1680x1050\" class=\"resolution\" name=\"resolution\" type=\"checkbox\" value=\"1680x1050\"><label style=\"display: block\" for=\"res-1680x1050\">\n",
      "                            1680x1050\n",
      "                                                    </label><input id=\"res-1920x1080\" class=\"resolution\" name=\"resolution\" type=\"checkbox\" value=\"1920x1080\"><label style=\"display: block\" for=\"res-1920x1080\">\n",
      "                            1920x1080\n",
      "                                                            <small>Full HD</small></label><input id=\"res-1920x1200\" class=\"resolution\" name=\"resolution\" type=\"checkbox\" value=\"1920x1200\"><label style=\"display: block\" for=\"res-1920x1200\">\n",
      "                            1920x1200\n",
      "                                                    </label><input id=\"res-2560x1440\" class=\"resolution\" name=\"resolution\" type=\"checkbox\" value=\"2560x1440\"><label style=\"display: block\" for=\"res-2560x1440\">\n",
      "                            2560x1440\n",
      "                                                    </label><input id=\"res-2560x1600\" class=\"resolution\" name=\"resolution\" type=\"checkbox\" value=\"2560x1600\"><label style=\"display: block\" for=\"res-2560x1600\">\n",
      "                            2560x1600\n",
      "                                                    </label><input id=\"res-3840x1080\" class=\"resolution\" name=\"resolution\" type=\"checkbox\" value=\"3840x1080\"><label style=\"display: block\" for=\"res-3840x1080\">\n",
      "                            3840x1080\n",
      "                                                    </label><input id=\"res-5760x1080\" class=\"resolution\" name=\"resolution\" type=\"checkbox\" value=\"5760x1080\"><label style=\"display: block\" for=\"res-5760x1080\">\n",
      "                            5760x1080\n",
      "                                                    </label><input id=\"res-3840x2160\" class=\"resolution\" name=\"resolution\" type=\"checkbox\" value=\"3840x2160\"><label style=\"display: block\" for=\"res-3840x2160\">\n",
      "                            3840x2160\n",
      "                                                            <small>4k UHD-1</small></label></div></div></fieldset><fieldset id=\"search-ratios\" class=\"framed\"><a class=\"jsAnchor dropdown-toggle collapsed\">Ratio</a><div class=\"dropdown collapsed\"><div><input id=\"ratio-4x3\" class=\"ratio\" name=\"ratio\" type=\"checkbox\" value=\"4x3\"><label style=\"display: block\" for=\"ratio-4x3\">4x3</label><input id=\"ratio-5x4\" class=\"ratio\" name=\"ratio\" type=\"checkbox\" value=\"5x4\"><label style=\"display: block\" for=\"ratio-5x4\">5x4</label><input id=\"ratio-16x9\" class=\"ratio\" name=\"ratio\" type=\"checkbox\" value=\"16x9\"><label style=\"display: block\" for=\"ratio-16x9\">16x9</label><input id=\"ratio-16x10\" class=\"ratio\" name=\"ratio\" type=\"checkbox\" value=\"16x10\"><label style=\"display: block\" for=\"ratio-16x10\">16x10</label><input id=\"ratio-32x9\" class=\"ratio\" name=\"ratio\" type=\"checkbox\" value=\"32x9\"><label style=\"display: block\" for=\"ratio-32x9\">32x9</label><input id=\"ratio-48x9\" class=\"ratio\" name=\"ratio\" type=\"checkbox\" value=\"48x9\"><label style=\"display: block\" for=\"ratio-48x9\">48x9</label></div></div></fieldset><fieldset class=\"oneline framed\"><div><select id=\"search-sorting\" title=\"Sorting\"><option value=\"relevance\" selected=\"selected\">\n",
      "                        Relevance\n",
      "                    </option><option value=\"random\" >\n",
      "                        Random\n",
      "                    </option><option value=\"date_added\" >\n",
      "                        Date Added\n",
      "                    </option><option value=\"views\" >\n",
      "                        Views\n",
      "                    </option><option value=\"favorites\" >\n",
      "                        Favorites\n",
      "                    </option></select></div><input id=\"search-order\" checked=\"checked\" name=\"order\" type=\"checkbox\" value=\"desc\"><label class=\"oneline-icon-button\" for=\"search-order\"></label></fieldset><button class=\"button\" id=\"search-submit\"><i class=\"fa fa-refresh fa-fw\"></i></button></form></div><!--#searchbar-->        \n",
      "        <a id=\"top\"></a>\n",
      "\n",
      "        <div id=\"wrapper\">\n",
      "            <main id=\"main\">\n",
      "                                    \n",
      "                                            <aside  id=\"showcase-sidebar\"\n",
      "        class=\"sidebar lsidebar \"\n",
      "        data-storage-id=\"showcase-sidebar\"        >\n",
      "    <a class=\"jsAnchor sidebar-toggle\"><i class=\"fa\"></i></a>\n",
      "    <div class=\"sidebar-background\">\n",
      "        <div class=\"sidebar-content\">\n",
      "                <ul class=\"sidebare-section color-palette\"><li class=\"color\" style=\"background-color:#424153\"><a class=\"dummy jsAnchor\"></a></li><li class=\"color\" style=\"background-color:#cccccc\"><a class=\"dummy jsAnchor\"></a></li><li class=\"color\" style=\"background-color:#999999\"><a class=\"dummy jsAnchor\"></a></li><li class=\"color\" style=\"background-color:#996633\"><a class=\"dummy jsAnchor\"></a></li><li class=\"color\" style=\"background-color:#e7d8b1\"><a class=\"dummy jsAnchor\"></a></li></ul><div class=\"sidebar-section\" data-storage-id=\"showcase-tags\"><a class=\"sidebar-section-toggle\"><i class=\"fa fa-fw\"></i></a><h2>Tags</h2><ul id=\"tags\"><li class=\"tag tag-sfw\"\n",
      "    id=\"tag-82\"\n",
      "    data-tag-id=\"82\"\n",
      "    ><a class=\"tagname\" rel=\"tag\" href=\"http://alpha.wallhaven.cc/tag/82\">animals</a></li><li class=\"tag tag-sfw\"\n",
      "    id=\"tag-43\"\n",
      "    data-tag-id=\"43\"\n",
      "    ><a class=\"tagname\" rel=\"tag\" href=\"http://alpha.wallhaven.cc/tag/43\">cats</a></li></ul></div><div class=\"sidebar-section\" data-storage-id=\"showcase-info\"><a class=\"sidebar-section-toggle\"><i class=\"fa fa-fw\"></i></a><h2>Properties</h2><form method=\"POST\" action=\"http://alpha.wallhaven.cc/wallpaper/purity\" accept-charset=\"UTF-8\" id=\"wallpaper-purity-form\"><input name=\"_token\" type=\"hidden\" value=\"uF4CHIE6N2EjO9mFhq30wNqAQ2eYsS1df3jaiUwL\"><fieldset class=\"framed\"><input type=\"radio\" checked=\"checked\"><label class=\"purity sfw\">SFW</label></fieldset></form><dl><dt>Resolution</dt><dd>2048 x 1365\n",
      "                    </dd><dt>Size</dt><dd>510.4 KiB</dd><dt>Category</dt><dd>General</dd><dt>Views</dt><dd>50</dd><dt>Favorites</dt><dd><a  class=\"overlay-anchor\" \n",
      "                title=\"User Favorites\"\n",
      "                href=\"http://alpha.wallhaven.cc/wallpaper/203199/favorites\"\n",
      "                >1</a></dd><dt>Uploaded by</dt><dd><a class=\"username usergroup-2\" href=\"http://alpha.wallhaven.cc/user/Droma\">Droma</a></dd><dt>Added</dt><dd><time title=\"Mon, May 11, 2015 1:36 PM\" datetime=\"2015-05-11T13:36:36+00:00\">\n",
      "        2 hours ago\n",
      "    </time></dd><dt>Source</dt><dd class=\"source-url\">\n",
      "                            unknown\n",
      "                                    </dd></dl></div>\n",
      "        </div>\n",
      "    </div>\n",
      "</aside>                                        \n",
      "                                        \n",
      "                                                                                    \n",
      "                    <section id=\"showcase\">\n",
      "    \n",
      "                \n",
      "    <img id=\"wallpaper\"\n",
      "         src=\"//wallpapers.wallhaven.cc/wallpapers/full/wallhaven-203199.jpg\"\n",
      "         alt=\"General 2048x1365 animals cats\"\n",
      "         draggable=\"false\"\n",
      "         data-wallpaper-id=\"203199\"\n",
      "         data-wallpaper-width=\"2048\"\n",
      "         data-wallpaper-height=\"1365\"\n",
      "         />\n",
      "</section>\n",
      "                     \n",
      "                            </main>\n",
      "\n",
      "                            <footer id=\"footer\">\n",
      "    <a class=\"to-top\" href=\"#top\" title=\"Back to top\"><i class=\"fa fa-lg fa-chevron-up\"></i></a><p class=\"copyright\"><a href=\"http://alpha.wallhaven.cc/about#Copyright\">All images remain property of their original owners.</a>\n",
      "        Site &amp; code &copy; <a href=\"http://alpha.wallhaven.cc\">wallhaven.cc</a> 2015.\n",
      "    </p><p class=\"social\"><a title=\"Facebook\" href=\"http://facebook.com/wallhavencc\" target=\"_blank\"><i class=\"fa fa-lg fa-facebook\"></i></a><a title=\"Google+\" href=\"https://google.com/+WallhavenCcc\" target=\"_blank\"><i class=\"fa fa-lg fa-google-plus\"></i></a><a title=\"Twitter\" href=\"http://twitter.com/wallhaven\" target=\"_blank\"><i class=\"fa fa-lg fa-twitter\"></i></a><a class=\"irc\" title=\"IRC\" target=\"_blank\"\n",
      "           href=\"https://qchat.rizon.net/?channels=#wallhaven\"><!-- <i class=\"icon irc\"></i> --><i class=\"fa fa-lg fa-comments\"></i><span class=\"channel\">#wallhaven</span><span class=\"server\">irc.rizon.net</span></a><a class=\"irc-direct\" title=\"IRC Direct\"\n",
      "                href=\"irc://irc.rizon.net/wallhaven\"><i class=\"fa fa-slack\"></i><i class=\"fa fa-exclamation\"></i></a></p><nav class=\"footermenu\"><a href=\"http://alpha.wallhaven.cc/upload\">upload</a><a href=\"http://alpha.wallhaven.cc/latest\">latest</a><a href=\"http://alpha.wallhaven.cc/tags\">tags</a><a href=\"http://alpha.wallhaven.cc/comments\">comments</a><a href=\"http://alpha.wallhaven.cc/about\">about</a><a href=\"http://alpha.wallhaven.cc/faq\">faq</a><a href=\"http://alpha.wallhaven.cc/rules\">rules</a><a href=\"http://alpha.wallhaven.cc/team\">team</a><a href=\"http://alpha.wallhaven.cc/contact\">contact</a></nav></footer>\n",
      "                    </div>\n",
      "\n",
      "            <span class=\"ribbon ribbon-bottom-right ribbon-red\">Alpha</span>\n",
      "            <div id=\"overlay\" class=\"overlay-hidden\">\n",
      "    <section class=\"overlay-inner\">\n",
      "        \n",
      "<header>\n",
      "    <h1>Message</h1>\n",
      "    <a class=\"jsAnchor overlay-close\" id=\"overlay-close\" title=\"Close\">\n",
      "        <i class=\"fa fa-times\"></i>\n",
      "    </a>\n",
      "</header>\n",
      "<div class=\"overlay-content\">\n",
      "    </div>\n",
      "\n",
      "    </section>\n",
      "</div>\n",
      "        \n",
      "            <script id=\"template-autocomplete-tag\" type=\"text/html\"><li><a data-autocomplete-value=\"{value}\"><span class=\"tagname {purity}\">{label}</span><small>{category}</small></a></li></script>        \n",
      "        <script src=\"//code.jquery.com/jquery-2.1.3.js\"></script>\n",
      "\n",
      "                <script src=\"//static.wallhaven.cc/assets/build.min.js\"></script>\n",
      "\n",
      "        \n",
      "        \n",
      "        <script>/*<![CDATA[*/\n",
      "            (function(wh, $, undefined) {\n",
      "                \n",
      "                \"use strict\";\n",
      "                \n",
      "                                                    \n",
      "                    // hide notifications after 5 seconds and on click\n",
      "                    var $notifications = $(\"#notifications\"),\n",
      "                        removeNotifications = function() {\n",
      "                            $notifications.fadeOut().remove();\n",
      "                        };\n",
      "                    setTimeout(removeNotifications, 5000);\n",
      "                    $notifications.one('click', removeNotifications);\n",
      "                    \n",
      "                                \n",
      "                                \n",
      "            })(wallhaven, jQuery);\n",
      "        /*]]>*/</script>\n",
      "    </body>\n",
      "</html>\n",
      "\n"
     ]
    }
   ],
   "source": [
    "print (page)\n",
    "from io import StringIO, BytesIO\n",
    "from lxml import etree\n",
    "parser = etree.HTMLParser()\n",
    "tree = etree.parse(StringIO(html), parser)\n",
    "# tree = html.fromstring(page)\n",
    "# print (tree.text)"
   ]
  },
  {
   "cell_type": "code",
   "execution_count": null,
   "metadata": {
    "collapsed": false
   },
   "outputs": [],
   "source": []
  },
  {
   "cell_type": "code",
   "execution_count": null,
   "metadata": {
    "collapsed": true
   },
   "outputs": [],
   "source": []
  }
 ],
 "metadata": {
  "kernelspec": {
   "display_name": "Python 3",
   "language": "python",
   "name": "python3"
  },
  "language_info": {
   "codemirror_mode": {
    "name": "ipython",
    "version": 3
   },
   "file_extension": ".py",
   "mimetype": "text/x-python",
   "name": "python",
   "nbconvert_exporter": "python",
   "pygments_lexer": "ipython3",
   "version": "3.4.3"
  }
 },
 "nbformat": 4,
 "nbformat_minor": 0
}

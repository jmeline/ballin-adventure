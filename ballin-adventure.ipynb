{
 "cells": [
  {
   "cell_type": "code",
   "execution_count": 3,
   "metadata": {
    "collapsed": true
   },
   "outputs": [],
   "source": [
    "from pymongo import MongoClient\n"
   ]
  },
  {
   "cell_type": "code",
   "execution_count": 4,
   "metadata": {
    "collapsed": false,
    "scrolled": true
   },
   "outputs": [
    {
     "ename": "ConnectionFailure",
     "evalue": "[Errno 111] Connection refused",
     "output_type": "error",
     "traceback": [
      "\u001b[1;31m---------------------------------------------------------------------------\u001b[0m",
      "\u001b[1;31mAutoReconnect\u001b[0m                             Traceback (most recent call last)",
      "\u001b[1;32m/home/jmeline/anaconda3/envs/xtractor/lib/python3.4/site-packages/pymongo/mongo_client.py\u001b[0m in \u001b[0;36m__init__\u001b[1;34m(self, host, port, max_pool_size, document_class, tz_aware, _connect, **kwargs)\u001b[0m\n\u001b[0;32m    373\u001b[0m             \u001b[1;32mtry\u001b[0m\u001b[1;33m:\u001b[0m\u001b[1;33m\u001b[0m\u001b[0m\n\u001b[1;32m--> 374\u001b[1;33m                 \u001b[0mself\u001b[0m\u001b[1;33m.\u001b[0m\u001b[0m_ensure_connected\u001b[0m\u001b[1;33m(\u001b[0m\u001b[1;32mTrue\u001b[0m\u001b[1;33m)\u001b[0m\u001b[1;33m\u001b[0m\u001b[0m\n\u001b[0m\u001b[0;32m    375\u001b[0m             \u001b[1;32mexcept\u001b[0m \u001b[0mAutoReconnect\u001b[0m \u001b[1;32mas\u001b[0m \u001b[0me\u001b[0m\u001b[1;33m:\u001b[0m\u001b[1;33m\u001b[0m\u001b[0m\n",
      "\u001b[1;32m/home/jmeline/anaconda3/envs/xtractor/lib/python3.4/site-packages/pymongo/mongo_client.py\u001b[0m in \u001b[0;36m_ensure_connected\u001b[1;34m(self, sync)\u001b[0m\n\u001b[0;32m    938\u001b[0m         \"\"\"\n\u001b[1;32m--> 939\u001b[1;33m         \u001b[0mself\u001b[0m\u001b[1;33m.\u001b[0m\u001b[0m__ensure_member\u001b[0m\u001b[1;33m(\u001b[0m\u001b[1;33m)\u001b[0m\u001b[1;33m\u001b[0m\u001b[0m\n\u001b[0m\u001b[0;32m    940\u001b[0m \u001b[1;33m\u001b[0m\u001b[0m\n",
      "\u001b[1;32m/home/jmeline/anaconda3/envs/xtractor/lib/python3.4/site-packages/pymongo/mongo_client.py\u001b[0m in \u001b[0;36m__ensure_member\u001b[1;34m(self)\u001b[0m\n\u001b[0;32m    812\u001b[0m                 \u001b[1;32mtry\u001b[0m\u001b[1;33m:\u001b[0m\u001b[1;33m\u001b[0m\u001b[0m\n\u001b[1;32m--> 813\u001b[1;33m                     \u001b[0mmember\u001b[0m\u001b[1;33m,\u001b[0m \u001b[0mnodes\u001b[0m \u001b[1;33m=\u001b[0m \u001b[0mself\u001b[0m\u001b[1;33m.\u001b[0m\u001b[0m__find_node\u001b[0m\u001b[1;33m(\u001b[0m\u001b[1;33m)\u001b[0m\u001b[1;33m\u001b[0m\u001b[0m\n\u001b[0m\u001b[0;32m    814\u001b[0m                     \u001b[1;32mreturn\u001b[0m \u001b[0mmember\u001b[0m\u001b[1;33m\u001b[0m\u001b[0m\n",
      "\u001b[1;32m/home/jmeline/anaconda3/envs/xtractor/lib/python3.4/site-packages/pymongo/mongo_client.py\u001b[0m in \u001b[0;36m__find_node\u001b[1;34m(self)\u001b[0m\n\u001b[0;32m    903\u001b[0m             \u001b[1;31m# Couldn't find a suitable host.\u001b[0m\u001b[1;33m\u001b[0m\u001b[1;33m\u001b[0m\u001b[0m\n\u001b[1;32m--> 904\u001b[1;33m             \u001b[1;32mraise\u001b[0m \u001b[0mAutoReconnect\u001b[0m\u001b[1;33m(\u001b[0m\u001b[1;34m', '\u001b[0m\u001b[1;33m.\u001b[0m\u001b[0mjoin\u001b[0m\u001b[1;33m(\u001b[0m\u001b[0merrors\u001b[0m\u001b[1;33m)\u001b[0m\u001b[1;33m)\u001b[0m\u001b[1;33m\u001b[0m\u001b[0m\n\u001b[0m\u001b[0;32m    905\u001b[0m \u001b[1;33m\u001b[0m\u001b[0m\n",
      "\u001b[1;31mAutoReconnect\u001b[0m: [Errno 111] Connection refused",
      "\nDuring handling of the above exception, another exception occurred:\n",
      "\u001b[1;31mConnectionFailure\u001b[0m                         Traceback (most recent call last)",
      "\u001b[1;32m<ipython-input-4-772d53facc15>\u001b[0m in \u001b[0;36m<module>\u001b[1;34m()\u001b[0m\n\u001b[1;32m----> 1\u001b[1;33m \u001b[0mclient\u001b[0m \u001b[1;33m=\u001b[0m \u001b[0mMongoClient\u001b[0m\u001b[1;33m(\u001b[0m\u001b[1;34m'localhost'\u001b[0m\u001b[1;33m,\u001b[0m \u001b[1;36m27017\u001b[0m\u001b[1;33m)\u001b[0m\u001b[1;33m\u001b[0m\u001b[0m\n\u001b[0m\u001b[0;32m      2\u001b[0m \u001b[1;31m# client = MongoClient()\u001b[0m\u001b[1;33m\u001b[0m\u001b[1;33m\u001b[0m\u001b[0m\n",
      "\u001b[1;32m/home/jmeline/anaconda3/envs/xtractor/lib/python3.4/site-packages/pymongo/mongo_client.py\u001b[0m in \u001b[0;36m__init__\u001b[1;34m(self, host, port, max_pool_size, document_class, tz_aware, _connect, **kwargs)\u001b[0m\n\u001b[0;32m    375\u001b[0m             \u001b[1;32mexcept\u001b[0m \u001b[0mAutoReconnect\u001b[0m \u001b[1;32mas\u001b[0m \u001b[0me\u001b[0m\u001b[1;33m:\u001b[0m\u001b[1;33m\u001b[0m\u001b[0m\n\u001b[0;32m    376\u001b[0m                 \u001b[1;31m# ConnectionFailure makes more sense here than AutoReconnect\u001b[0m\u001b[1;33m\u001b[0m\u001b[1;33m\u001b[0m\u001b[0m\n\u001b[1;32m--> 377\u001b[1;33m                 \u001b[1;32mraise\u001b[0m \u001b[0mConnectionFailure\u001b[0m\u001b[1;33m(\u001b[0m\u001b[0mstr\u001b[0m\u001b[1;33m(\u001b[0m\u001b[0me\u001b[0m\u001b[1;33m)\u001b[0m\u001b[1;33m)\u001b[0m\u001b[1;33m\u001b[0m\u001b[0m\n\u001b[0m\u001b[0;32m    378\u001b[0m \u001b[1;33m\u001b[0m\u001b[0m\n\u001b[0;32m    379\u001b[0m         \u001b[1;32mif\u001b[0m \u001b[0musername\u001b[0m\u001b[1;33m:\u001b[0m\u001b[1;33m\u001b[0m\u001b[0m\n",
      "\u001b[1;31mConnectionFailure\u001b[0m: [Errno 111] Connection refused"
     ]
    }
   ],
   "source": [
    "client = MongoClient('localhost', 27017)\n",
    "# client = MongoClient()"
   ]
  },
  {
   "cell_type": "code",
   "execution_count": null,
   "metadata": {
    "collapsed": true
   },
   "outputs": [],
   "source": [
    "db = client['xtractor']"
   ]
  },
  {
   "cell_type": "code",
   "execution_count": null,
   "metadata": {
    "collapsed": true
   },
   "outputs": [],
   "source": [
    "collection = db.items"
   ]
  },
  {
   "cell_type": "code",
   "execution_count": 5,
   "metadata": {
    "collapsed": false,
    "scrolled": true
   },
   "outputs": [
    {
     "data": {
      "text/plain": [
       "{'added_date': None,\n",
       " 'category': None,\n",
       " 'downloaded_date': datetime.datetime(2015, 6, 14, 8, 15, 23, 144307),\n",
       " 'favorites': None,\n",
       " 'id': None,\n",
       " 'link': None,\n",
       " 'resolution': None,\n",
       " 'size': None,\n",
       " 'source': None,\n",
       " 'tags': [],\n",
       " 'title': None,\n",
       " 'uploaded_by': None}"
      ]
     },
     "execution_count": 5,
     "metadata": {},
     "output_type": "execute_result"
    }
   ],
   "source": [
    "import datetime\n",
    "post = {\n",
    "    \"id\": None,\n",
    "    \"title\": None,\n",
    "    \"tags\":[],\n",
    "    \"link\": None,\n",
    "    \"size\": None,\n",
    "    \"resolution\": None,\n",
    "    \"favorites\": None,\n",
    "    \"uploaded_by\": None,\n",
    "    \"added_date\": None,\n",
    "    \"source\": None,\n",
    "    \"category\": None,\n",
    "    \"downloaded_date\": datetime.datetime.now()\n",
    "}\n",
    "post"
   ]
  },
  {
   "cell_type": "code",
   "execution_count": 6,
   "metadata": {
    "collapsed": false
   },
   "outputs": [
    {
     "data": {
      "text/plain": [
       "'12245'"
      ]
     },
     "execution_count": 6,
     "metadata": {},
     "output_type": "execute_result"
    }
   ],
   "source": [
    "## Obtaining ID\n",
    "import re\n",
    "file = 'wallhaven-12245.png'\n",
    "match = re.search('-(\\d*).', file)\n",
    "match.group(1)"
   ]
  },
  {
   "cell_type": "code",
   "execution_count": 7,
   "metadata": {
    "collapsed": false
   },
   "outputs": [
    {
     "name": "stdout",
     "output_type": "stream",
     "text": [
      "html: <class 'str'>\n"
     ]
    }
   ],
   "source": [
    "import requests\n",
    "example = 'http://alpha.wallhaven.cc/wallpaper/203199'\n",
    "html = requests.get(example).text\n",
    "print(\"html:\", type(html))"
   ]
  },
  {
   "cell_type": "code",
   "execution_count": 8,
   "metadata": {
    "collapsed": false,
    "scrolled": true
   },
   "outputs": [
    {
     "name": "stdout",
     "output_type": "stream",
     "text": [
      "Tags:  ['animals', 'cats']\n",
      "Resolution: 2048 x 1365</dd><dt>Size</dt><dd>510.4 KiB</dd><dt>Category</dt><dd>General</dd><dt>Views</dt><dd>236\n",
      "Size: 510.4 KiB\n",
      "Category: General\n",
      "Views: 236\n",
      "Uploaded_by: Droma\n"
     ]
    }
   ],
   "source": [
    "# Obtain tags\n",
    "pattern = r'<a class=\"tagname\" rel=\"tag\" href=\".*\">(.*)</a></li>'\n",
    "match = re.findall(pattern, html)\n",
    "print(\"Tags: \", list(match))\n",
    "# Obtain Resolution\n",
    "pattern = r'<dt>Resolution</dt><dd>(.*)\\s*</dd>'\n",
    "match = re.search(pattern, html)\n",
    "print(\"Resolution:\", match.group(1))\n",
    "# Obtain Size\n",
    "pattern = r'<dt>Size</dt><dd>(.*B)</dd><dt>'\n",
    "match = re.search(pattern, html)\n",
    "if match:\n",
    "    print(\"Size:\", match.group(1))\n",
    "# Obtain Category\n",
    "pattern = r'<dt>Category</dt><dd>(\\w*)</dd><dt>'\n",
    "match = re.search(pattern, html)\n",
    "if match:\n",
    "    print(\"Category:\", match.group(1))\n",
    "# Obtain Views\n",
    "pattern = r'<dt>Views</dt><dd>(\\d*)</dd>'\n",
    "match = re.search(pattern, html)\n",
    "if match:\n",
    "    print(\"Views:\", match.group(1))\n",
    "# Obtain Uploaded_by\n",
    "pattern = r'<dt>Uploaded by</dt><dd><a class=\"username.*>(.*)</a></dd>'\n",
    "match = re.search(pattern, html)\n",
    "if match:\n",
    "    print(\"Uploaded_by:\", match.group(1))\n"
   ]
  },
  {
   "cell_type": "code",
   "execution_count": 2,
   "metadata": {
    "collapsed": false
   },
   "outputs": [],
   "source": [
    "page = 'http://alpha.wallhaven.cc/wallpaper/220238'\n",
    "page2 = 'http://alpha.wallhaven.cc/wallpaper/7610'\n"
   ]
  },
  {
   "cell_type": "code",
   "execution_count": 3,
   "metadata": {
    "collapsed": false
   },
   "outputs": [],
   "source": [
    "from lxml import html\n",
    "import requests"
   ]
  },
  {
   "cell_type": "code",
   "execution_count": 38,
   "metadata": {
    "collapsed": false
   },
   "outputs": [
    {
     "name": "stdout",
     "output_type": "stream",
     "text": [
      "<Response [200]>\n",
      "Purity:  SFW\n",
      "HTML:  //wallpapers.wallhaven.cc/wallpapers/full/wallhaven-7610.jpg\n",
      "Resolution:  2560 x 1440\n",
      "Tags:  {'2122': 'natural lighting', '245': 'stars', '1': 'anime', '577': 'Apple Inc.', '16256': 'OS X', '32': 'space', '51': 'galaxies', '282': 'blue'}\n",
      "Size:  471.9 KiB\n",
      "Category:  General\n",
      "Views:  359,743\n",
      "Favorites:  115\n",
      "Uploaded_by: [Maxalos] http://alpha.wallhaven.cc/user/Maxalos\n",
      "Added: [10 months ago] ['Fri, Aug 8, 2014 7:31 PM']\n",
      "Source:   unknown\n"
     ]
    }
   ],
   "source": [
    "from lxml import html\n",
    "import requests\n",
    "p= requests.get(page2)\n",
    "tree = html.fromstring(p.text)\n",
    "# print (p.text)\n",
    "# /html/body/div[2]/main/aside/div/div[1]/div[2]/dl/dd[5]/a\n",
    "xpath = '//*[@id=\"showcase-sidebar\"]/div/div[1]/div[2]/dl'\n",
    "resolution = tree.xpath(xpath+'/dd[1]/text()')\n",
    "size = tree.xpath(xpath+'/dd[2]/text()')\n",
    "category = tree.xpath(xpath+'/dd[3]/text()')\n",
    "views = tree.xpath(xpath+'/dd[4]/text()')\n",
    "favorites = tree.xpath(xpath+'/dd[5]/a/text()')\n",
    "uploaded_by = tree.xpath(xpath+'/dd[6]/a/text()')\n",
    "uploaded_by_link = tree.xpath(xpath+'/dd[6]/a/@href')\n",
    "added = tree.xpath(xpath+'/dd[7]/time/text()')\n",
    "added_datetime = tree.xpath(xpath+'/dd[7]/time/@title')\n",
    "source = tree.xpath(xpath+'/dd[8]/text()')\n",
    "html = tree.xpath('//*[@id=\"wallpaper\"]/@src')\n",
    "purity = tree.xpath('//*[@id=\"wallpaper-purity-form\"]/fieldset/label/text()')\n",
    "tags = tree.xpath('//*[@id=\"tags\"]/*')\n",
    "tags = dict((x.attrib['data-tag-id'], x.getchildren()[0].text) for x in tags))\n",
    "print (requests.get(\"http:\"+html[0]))\n",
    "print (\"Purity: \", purity[0])\n",
    "print (\"HTML: \", html[0])\n",
    "print (\"Resolution: \", resolution[0])\n",
    "print (\"Tags: \", tags)\n",
    "print (\"Size: \", size[0])\n",
    "print (\"Category: \", category[0])\n",
    "print (\"Views: \", views[0])\n",
    "print (\"Favorites: \", favorites[0])\n",
    "print (\"Uploaded_by: [%s] %s\" % (uploaded_by[0], uploaded_by_link[0]))\n",
    "print (\"Added: [%s] %s\" % (added[0], added_datetime))\n",
    "print (\"Source: \", source[0].rstrip())\n",
    "\n",
    "properties = {\n",
    "    \"Purity\": purity[0],\n",
    "    \"HTML\": html[0],\n",
    "    \"Resolution\": resolution[0],\n",
    "    \"Tags\": tags,\n",
    "    \"Size\": size[0],\n",
    "    \"Category\", category[0],\n",
    "    \"Views\": views[0],\n",
    "    \"Favorites\": favorites[0],\n",
    "    \"Uploaded_by\": (uploaded_by[0], uploaded_by_link[0]),\n",
    "    \"Added\": (added[0], added_datetime),\n",
    "    \"Source\": source[0].rstrip()\n",
    "}\n"
   ]
  },
  {
   "cell_type": "code",
   "execution_count": null,
   "metadata": {
    "collapsed": false
   },
   "outputs": [],
   "source": []
  },
  {
   "cell_type": "code",
   "execution_count": null,
   "metadata": {
    "collapsed": true
   },
   "outputs": [],
   "source": []
  }
 ],
 "metadata": {
  "kernelspec": {
   "display_name": "Python 3",
   "language": "python",
   "name": "python3"
  },
  "language_info": {
   "codemirror_mode": {
    "name": "ipython",
    "version": 3
   },
   "file_extension": ".py",
   "mimetype": "text/x-python",
   "name": "python",
   "nbconvert_exporter": "python",
   "pygments_lexer": "ipython3",
   "version": "3.4.3"
  }
 },
 "nbformat": 4,
 "nbformat_minor": 0
}

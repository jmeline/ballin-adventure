{
 "cells": [
  {
   "cell_type": "code",
   "execution_count": 9,
   "metadata": {
    "collapsed": true
   },
   "outputs": [],
   "source": [
    "from pymongo import MongoClient\n"
   ]
  },
  {
   "cell_type": "code",
   "execution_count": 10,
   "metadata": {
    "collapsed": false
   },
   "outputs": [],
   "source": [
    "client = MongoClient('localhost', 27017)\n",
    "# client = MongoClient()"
   ]
  },
  {
   "cell_type": "code",
   "execution_count": 11,
   "metadata": {
    "collapsed": true
   },
   "outputs": [],
   "source": [
    "db = client['xtractor']"
   ]
  },
  {
   "cell_type": "code",
   "execution_count": 12,
   "metadata": {
    "collapsed": true
   },
   "outputs": [],
   "source": [
    "collection = db.items"
   ]
  },
  {
   "cell_type": "code",
   "execution_count": 45,
   "metadata": {
    "collapsed": false,
    "scrolled": true
   },
   "outputs": [
    {
     "data": {
      "text/plain": [
       "{'added_date': None,\n",
       " 'category': None,\n",
       " 'downloaded_date': datetime.datetime(2015, 5, 11, 15, 2, 55, 843420),\n",
       " 'favorites': None,\n",
       " 'id': None,\n",
       " 'link': None,\n",
       " 'resolution': None,\n",
       " 'size': None,\n",
       " 'source': None,\n",
       " 'tags': [],\n",
       " 'title': None,\n",
       " 'uploaded_by': None}"
      ]
     },
     "execution_count": 45,
     "metadata": {},
     "output_type": "execute_result"
    }
   ],
   "source": [
    "import datetime\n",
    "post = {\n",
    "    \"id\": None,\n",
    "    \"title\": None,\n",
    "    \"tags\":[],\n",
    "    \"link\": None,\n",
    "    \"size\": None,\n",
    "    \"resolution\": None,\n",
    "    \"favorites\": None,\n",
    "    \"uploaded_by\": None,\n",
    "    \"added_date\": None,\n",
    "    \"source\": None,\n",
    "    \"category\": None,\n",
    "    \"downloaded_date\": datetime.datetime.now()\n",
    "}\n",
    "post"
   ]
  },
  {
   "cell_type": "code",
   "execution_count": 16,
   "metadata": {
    "collapsed": false
   },
   "outputs": [
    {
     "data": {
      "text/plain": [
       "'12245'"
      ]
     },
     "execution_count": 16,
     "metadata": {},
     "output_type": "execute_result"
    }
   ],
   "source": [
    "## Obtaining ID\n",
    "import re\n",
    "file = 'wallhaven-12245.png'\n",
    "match = re.search('-(\\d*).', file)\n",
    "match.group(1)"
   ]
  },
  {
   "cell_type": "code",
   "execution_count": 17,
   "metadata": {
    "collapsed": true
   },
   "outputs": [],
   "source": [
    "import requests\n",
    "example = 'http://alpha.wallhaven.cc/wallpaper/203199'\n",
    "html = requests.get(example).text"
   ]
  },
  {
   "cell_type": "code",
   "execution_count": 52,
   "metadata": {
    "collapsed": false
   },
   "outputs": [
    {
     "name": "stdout",
     "output_type": "stream",
     "text": [
      "Tags:  ['animals', 'cats']\n",
      "Resolution: 2048 x 1365\n",
      "Size: 510.4 KiB\n",
      "Category: General\n",
      "Views: 17\n",
      "Uploaded_by: Droma\n"
     ]
    }
   ],
   "source": [
    "# Obtain tags\n",
    "pattern = r'<a class=\"tagname\" rel=\"tag\" href=\".*\">(.*)</a></li>'\n",
    "match = re.findall(pattern, html)\n",
    "print(\"Tags: \", list(match))\n",
    "# Obtain Resolution\n",
    "pattern = r'<dt>Resolution</dt><dd>(.*)\\s*</dd>'\n",
    "match = re.search(pattern, html)\n",
    "print(\"Resolution:\", match.group(1))\n",
    "# Obtain Size\n",
    "pattern = r'<dt>Size</dt><dd>(.*B)</dd><dt>'\n",
    "match = re.search(pattern, html)\n",
    "if match:\n",
    "    print(\"Size:\", match.group(1))\n",
    "# Obtain Category\n",
    "pattern = r'<dt>Category</dt><dd>(\\w*)</dd><dt>'\n",
    "match = re.search(pattern, html)\n",
    "if match:\n",
    "    print(\"Category:\", match.group(1))\n",
    "# Obtain Views\n",
    "pattern = r'<dt>Views</dt><dd>(\\d*)</dd>'\n",
    "match = re.search(pattern, html)\n",
    "if match:\n",
    "    print(\"Views:\", match.group(1))\n",
    "# Obtain Uploaded_by\n",
    "pattern = r'<dt>Uploaded by</dt><dd><a class=\"username.*>(.*)</a></dd>'\n",
    "match = re.search(pattern, html)\n",
    "if match:\n",
    "    print(\"Uploaded_by:\", match.group(1))\n"
   ]
  },
  {
   "cell_type": "code",
   "execution_count": null,
   "metadata": {
    "collapsed": false
   },
   "outputs": [],
   "source": []
  },
  {
   "cell_type": "code",
   "execution_count": null,
   "metadata": {
    "collapsed": false
   },
   "outputs": [],
   "source": []
  },
  {
   "cell_type": "code",
   "execution_count": null,
   "metadata": {
    "collapsed": true
   },
   "outputs": [],
   "source": []
  }
 ],
 "metadata": {
  "kernelspec": {
   "display_name": "Python 3",
   "language": "python",
   "name": "python3"
  },
  "language_info": {
   "codemirror_mode": {
    "name": "ipython",
    "version": 3
   },
   "file_extension": ".py",
   "mimetype": "text/x-python",
   "name": "python",
   "nbconvert_exporter": "python",
   "pygments_lexer": "ipython3",
   "version": "3.4.3"
  }
 },
 "nbformat": 4,
 "nbformat_minor": 0
}
